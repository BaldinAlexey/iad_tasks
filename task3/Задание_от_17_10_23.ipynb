{
  "nbformat": 4,
  "nbformat_minor": 0,
  "metadata": {
    "colab": {
      "provenance": []
    },
    "kernelspec": {
      "name": "python3",
      "display_name": "Python 3"
    },
    "language_info": {
      "name": "python"
    }
  },
  "cells": [
    {
      "cell_type": "markdown",
      "source": [
        "# Практика 17.10.23\n",
        "\n",
        "1. Сгенерировать, используя модуль псевдослучайных чисел `random`, или ввести с клавиатуры список целых чисел. Вывести в консоль, затем перевернуть его и снова вывести в консоль.\n",
        "\n",
        "2. Сгенерировать, используя модуль псевдослучайных чисел `random`, или ввести с клавиатуры два списка целых чисел. Вывести их в консоль. Создать новый пустой список. Добавить в него все четные (по индексу) элементы первого списка и все нечетные (по индексу) элементы второго списка. Вывести третий список в консоль.\n",
        "\n",
        "3. Сгенерировать, используя модуль псевдослучайных чисел `random`, или ввести с клавиатуры список произвольных элементов (целые числа, числа с плавающей точкой, строки). Вывести в консоль. Убрать из него все дубликаты через приведение типов. Вывести в консоль.\n",
        "\n",
        "4. Сгенерировать, используя модуль псевдослучайных чисел `random`, или ввести с клавиатуры словарь, где ключом является строка, значением — целое число или число с плавающей точкой. Вывести в консоль. Для всех уникальных значений создать кортеж, где первым элементом будет значение, вторым — список связанных с ним ключей. Собрать эти кортежи в список, вывести его в консоль.\n",
        "\n",
        "5. Сгенерировать, используя модуль псевдослучайных чисел `random`, или ввести с клавиатуры два словаря, где ключом является строка, значением — целое число или число с плавающей точкой. Вывести в консоль. Найти пересечения множеств значений словарей. Создать новый словарь, содержащий только те пары ключ-значение, значения из которых входит в пересечение. Вывести в консоль.\n",
        "\n",
        "[Ссылка на документацию функции `random`](https://docs.python.org/3/library/random.html)\n",
        "\n",
        "[Built-in Types](https://docs.python.org/3/library/stdtypes.html?highlight=tuple#tuple)"
      ],
      "metadata": {
        "id": "64JPlHixec69"
      }
    },
    {
      "cell_type": "markdown",
      "source": [
        "##Задание 1"
      ],
      "metadata": {
        "id": "HAVFiCLPo28O"
      }
    },
    {
      "cell_type": "code",
      "source": [
        "import random\n",
        "\n",
        "def generate_list(n):\n",
        "  return[random.randint(0, 10) for _ in range(10)]\n",
        "\n",
        "list1 = generate_list(10)\n",
        "print(list1)\n",
        "print(list(reversed(list1)))"
      ],
      "metadata": {
        "colab": {
          "base_uri": "https://localhost:8080/"
        },
        "id": "68pFsIvRPdvk",
        "outputId": "4cbafdfa-bdf2-4991-b269-e64b16e434a7"
      },
      "execution_count": null,
      "outputs": [
        {
          "output_type": "stream",
          "name": "stdout",
          "text": [
            "[1, 2, 10, 6, 0, 8, 6, 4, 9, 1]\n",
            "[1, 9, 4, 6, 8, 0, 6, 10, 2, 1]\n"
          ]
        }
      ]
    },
    {
      "cell_type": "markdown",
      "source": [
        "## Задание 2"
      ],
      "metadata": {
        "id": "a1gbYjASfIqJ"
      }
    },
    {
      "cell_type": "code",
      "source": [
        "list1 = generate_list(10)\n",
        "list2 = generate_list(10)\n",
        "list3 = []\n",
        "\n",
        "print(\"first list: \", list1)\n",
        "print(\"second list: \", list2)\n",
        "\n",
        "for i in range(0, len(list1), 2):\n",
        "  list3.append(list1[i])\n",
        "for i in range(1, len(list2), 2):\n",
        "  list3.append(list2[i])\n",
        "\n",
        "print(\"third list: \", list3)"
      ],
      "metadata": {
        "id": "3DFZiLwJfMfC",
        "colab": {
          "base_uri": "https://localhost:8080/"
        },
        "outputId": "1eb8531f-d9e1-414d-fd9e-5b9417b10c85"
      },
      "execution_count": null,
      "outputs": [
        {
          "output_type": "stream",
          "name": "stdout",
          "text": [
            "first list:  [3, 2, 2, 4, 3, 0, 8, 9, 4, 9]\n",
            "second list:  [7, 6, 1, 2, 7, 8, 0, 1, 10, 10]\n",
            "third list:  [3, 2, 3, 8, 4, 6, 2, 8, 1, 10]\n"
          ]
        }
      ]
    },
    {
      "cell_type": "markdown",
      "source": [
        "## Задание 3"
      ],
      "metadata": {
        "id": "ZITkT8YUfM8t"
      }
    },
    {
      "cell_type": "code",
      "source": [
        "def random_word(word_size):\n",
        "  word = \"\"\n",
        "  for i in range(word_size):\n",
        "    word += chr(random.randint(97,101))\n",
        "  return word\n",
        "\n",
        "list1 = []\n",
        "for _ in range(10):\n",
        "    list1.append(random.choice([random.randint(1, 5), round(random.random() * random.randint(1,5), 2), random_word(random.randint(1,5))]))\n",
        "print(list1)\n",
        "unique_list = set(list1)\n",
        "print(list(unique_list))\n"
      ],
      "metadata": {
        "id": "FL_u4MSlfS1w",
        "colab": {
          "base_uri": "https://localhost:8080/"
        },
        "outputId": "efda3ca6-0b86-4b9e-eae6-a7f29b41215e"
      },
      "execution_count": null,
      "outputs": [
        {
          "output_type": "stream",
          "name": "stdout",
          "text": [
            "['eca', 1.92, 3, 'aedb', 1, 0.47, 3.63, 5, 5, 'aca']\n",
            "[0.47, 1.92, 1, 3, 3.63, 5, 'aca', 'eca', 'aedb']\n"
          ]
        }
      ]
    },
    {
      "cell_type": "markdown",
      "source": [
        "## Задание 4"
      ],
      "metadata": {
        "id": "sqvNf2a6fTdY"
      }
    },
    {
      "cell_type": "code",
      "source": [
        "import random\n",
        "\n",
        "dict1 = {}\n",
        "for i in range(5):\n",
        "  dict1[random_word(3)] = random.randint(0, 5)\n",
        "\n",
        "print(dict1)\n",
        "\n",
        "unique_values = {}\n",
        "for key, value in dict1.items():\n",
        "  if value not in unique_values:\n",
        "    unique_values[value] = [key]\n",
        "  else:\n",
        "    unique_values[value].append(key)\n",
        "\n",
        "result_list = [(value, keys) for value, keys in unique_values.items()]\n",
        "print(result_list)"
      ],
      "metadata": {
        "id": "3M4BCixjfXoq",
        "colab": {
          "base_uri": "https://localhost:8080/"
        },
        "outputId": "12d18f11-1952-4075-e259-0edbfffba4cd"
      },
      "execution_count": null,
      "outputs": [
        {
          "output_type": "stream",
          "name": "stdout",
          "text": [
            "{'bcc': 2, 'bba': 1, 'aee': 4, 'bea': 1, 'eae': 3}\n",
            "[(2, ['bcc']), (1, ['bba', 'bea']), (4, ['aee']), (3, ['eae'])]\n"
          ]
        }
      ]
    },
    {
      "cell_type": "markdown",
      "source": [
        "## Задание 5"
      ],
      "metadata": {
        "id": "3V5mJOBQfYHe"
      }
    },
    {
      "cell_type": "code",
      "source": [
        "dict1 = {}\n",
        "for i in range(5):\n",
        "  dict1[random_word(3)] = random.choice([round(random.random() * random.randint(1,5), 2), random.randint(0, 5)])\n",
        "\n",
        "dict2 = {}\n",
        "for i in range(5):\n",
        "  dict2[random_word(3)] = random.choice([round(random.random() * random.randint(1,5), 2), random.randint(0, 5)])\n",
        "\n",
        "print(\"first dict:\", dict1)\n",
        "print(\"second dict:\", dict2, \"\\n\")\n",
        "\n",
        "intersection_values = set(dict1.values()) & set(dict2.values())\n",
        "dict3 = {key: value for key, value in dict1.items() if value in intersection_values}\n",
        "\n",
        "print(\"third dict:\", dict3)"
      ],
      "metadata": {
        "id": "ekN9ImbzfZ2Z",
        "colab": {
          "base_uri": "https://localhost:8080/"
        },
        "outputId": "89cc2896-c81b-4f25-96c2-e10cfae086f7"
      },
      "execution_count": null,
      "outputs": [
        {
          "output_type": "stream",
          "name": "stdout",
          "text": [
            "first dict: {'bee': 2, 'dae': 0.56, 'ede': 1, 'aea': 5, 'cac': 0.55}\n",
            "second dict: {'edc': 1, 'dea': 5, 'adb': 0.88, 'cec': 4, 'ddc': 3.48} \n",
            "\n",
            "third dict: {'ede': 1, 'aea': 5}\n"
          ]
        }
      ]
    }
  ]
}